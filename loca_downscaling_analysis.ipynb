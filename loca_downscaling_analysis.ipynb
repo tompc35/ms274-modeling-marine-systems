{
  "nbformat": 4,
  "nbformat_minor": 0,
  "metadata": {
    "colab": {
      "name": "loca_downscaling_analysis.ipynb",
      "version": "0.3.2",
      "provenance": [],
      "include_colab_link": true
    },
    "kernelspec": {
      "name": "python3",
      "display_name": "Python 3"
    }
  },
  "cells": [
    {
      "cell_type": "markdown",
      "metadata": {
        "id": "view-in-github",
        "colab_type": "text"
      },
      "source": [
        "<a href=\"https://colab.research.google.com/github/tompc35/ms274-modeling-marine-systems/blob/master/loca_downscaling_analysis.ipynb\" target=\"_parent\"><img src=\"https://colab.research.google.com/assets/colab-badge.svg\" alt=\"Open In Colab\"/></a>"
      ]
    },
    {
      "metadata": {
        "id": "AmADphAKS3y4",
        "colab_type": "text"
      },
      "cell_type": "markdown",
      "source": [
        "## Analysis of LOCA downscaled climate model output\n",
        "\n",
        "This notebook is part of a tutorial on using Python to analyze climate model output. The model output comes from statistically downscaled CMIP5 climate projections for North America, called Localized Constructed Analogs (LOCA). Statistical downscaling means that statistical relationships between coarse general circulation models (GCMs) and local observations are used to create high resolution projections of future climate.\n",
        "\n",
        "The Python [xarray](http://xarray.pydata.org/en/stable/) package is used to analyze output that resides on a remote OpenDAP server. OpenDAP servers allow data that is in NetCDF format to be analyzed remotely, without downloading the entire dataset to a local machine. NetCDF is a common data format (that's what the CDF stands for) in the earth sciences.\n",
        "\n",
        "More information about the model output and downscaling process can be found at:\n",
        "\n",
        "* http://loca.ucsd.edu\n",
        "\n",
        "* Pierce, D. W., D. R. Cayan, and B. L. Thrasher, 2014: Statistical downscaling using Localized Constructed Analogs (LOCA). Journal of Hydrometeorology, volume 15, page 2558-2585.\n",
        "\n",
        "The contents of the LOCA dataset can be viewed on the web at:\n",
        "\n",
        "* https://cida.usgs.gov/thredds/catalog.html?dataset=cida.usgs.gov/loca_future"
      ]
    },
    {
      "metadata": {
        "id": "AWqIjl1_rNhT",
        "colab_type": "text"
      },
      "cell_type": "markdown",
      "source": [
        "#### Install packages"
      ]
    },
    {
      "metadata": {
        "id": "CD_Bmq3DI0cB",
        "colab_type": "code",
        "outputId": "f72d2e86-f0ac-42f5-ce73-add756c8c448",
        "colab": {
          "base_uri": "https://localhost:8080/",
          "height": 193
        }
      },
      "cell_type": "code",
      "source": [
        "!pip install xarray\n",
        "!pip install netcdf4"
      ],
      "execution_count": 4,
      "outputs": [
        {
          "output_type": "stream",
          "text": [
            "Requirement already satisfied: xarray in /usr/local/lib/python3.6/dist-packages (0.11.0)\n",
            "Requirement already satisfied: numpy>=1.12 in /usr/local/lib/python3.6/dist-packages (from xarray) (1.14.6)\n",
            "Requirement already satisfied: pandas>=0.19.2 in /usr/local/lib/python3.6/dist-packages (from xarray) (0.22.0)\n",
            "Requirement already satisfied: pytz>=2011k in /usr/local/lib/python3.6/dist-packages (from pandas>=0.19.2->xarray) (2018.7)\n",
            "Requirement already satisfied: python-dateutil>=2 in /usr/local/lib/python3.6/dist-packages (from pandas>=0.19.2->xarray) (2.5.3)\n",
            "Requirement already satisfied: six>=1.5 in /usr/local/lib/python3.6/dist-packages (from python-dateutil>=2->pandas>=0.19.2->xarray) (1.11.0)\n",
            "Requirement already satisfied: netcdf4 in /usr/local/lib/python3.6/dist-packages (1.4.2)\n",
            "Requirement already satisfied: cftime in /usr/local/lib/python3.6/dist-packages (from netcdf4) (1.0.3.4)\n",
            "Requirement already satisfied: numpy>=1.7 in /usr/local/lib/python3.6/dist-packages (from netcdf4) (1.14.6)\n"
          ],
          "name": "stdout"
        }
      ]
    },
    {
      "metadata": {
        "id": "ZU7kwDGXrW42",
        "colab_type": "text"
      },
      "cell_type": "markdown",
      "source": [
        "#### Import packages"
      ]
    },
    {
      "metadata": {
        "id": "Ftf3ph0zIKND",
        "colab_type": "code",
        "colab": {}
      },
      "cell_type": "code",
      "source": [
        "import xarray as xr\n",
        "import matplotlib.pyplot as plt"
      ],
      "execution_count": 0,
      "outputs": []
    },
    {
      "metadata": {
        "id": "B8c-T2pcsl8e",
        "colab_type": "text"
      },
      "cell_type": "markdown",
      "source": [
        "#### Access dataset"
      ]
    },
    {
      "metadata": {
        "id": "XtryXtkwIWLf",
        "colab_type": "code",
        "colab": {}
      },
      "cell_type": "code",
      "source": [
        "data_path = 'http://cida.usgs.gov/thredds/dodsC/loca_future'"
      ],
      "execution_count": 0,
      "outputs": []
    },
    {
      "metadata": {
        "id": "joNiqguMRlFl",
        "colab_type": "code",
        "colab": {}
      },
      "cell_type": "code",
      "source": [
        "### tutorial code"
      ],
      "execution_count": 0,
      "outputs": []
    },
    {
      "metadata": {
        "id": "ffPae0n9tTxE",
        "colab_type": "text"
      },
      "cell_type": "markdown",
      "source": [
        "#### Exercise\n",
        "\n",
        "Following the tutorial, make a plot of a downscaled climate projection for your hometown. Possible variables to plot:\n",
        "* annual maximum temperature\n",
        "* annual minimum temperature \n",
        "* annual maximum daily precipitation \n",
        "* other ideas?\n",
        "\n",
        "You will need to decide which representation concentration pathway (RCP) scenario to use.\n",
        "\n",
        "* Emissions in RCP 4.5 peak around 2040, then decline.\n",
        "* Emissions in RCP 8.5 continue to rise throughout the 21st century.\n",
        "\n"
      ]
    },
    {
      "metadata": {
        "id": "nR7Auan4vAmG",
        "colab_type": "code",
        "colab": {}
      },
      "cell_type": "code",
      "source": [
        ""
      ],
      "execution_count": 0,
      "outputs": []
    }
  ]
}