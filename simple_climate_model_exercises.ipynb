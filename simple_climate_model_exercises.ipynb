{
  "nbformat": 4,
  "nbformat_minor": 0,
  "metadata": {
    "colab": {
      "name": "simple_climate_model_exercises.ipynb",
      "version": "0.3.2",
      "provenance": [],
      "collapsed_sections": [],
      "include_colab_link": true
    },
    "kernelspec": {
      "display_name": "Python [default]",
      "language": "python",
      "name": "python3"
    }
  },
  "cells": [
    {
      "cell_type": "markdown",
      "metadata": {
        "id": "view-in-github",
        "colab_type": "text"
      },
      "source": [
        "<a href=\"https://colab.research.google.com/github/tompc35/ms274-modeling-marine-systems/blob/master/simple_climate_model_exercises.ipynb\" target=\"_parent\"><img src=\"https://colab.research.google.com/assets/colab-badge.svg\" alt=\"Open In Colab\"/></a>"
      ]
    },
    {
      "metadata": {
        "id": "V0d9hD6IO2zm",
        "colab_type": "text"
      },
      "cell_type": "markdown",
      "source": [
        "# Constructing a simple climate model\n",
        "\n",
        "A simplified 0-D, time-varying model of the Earth's energy balance:\n",
        "\n",
        "$\\rho c_p H \\frac{dT}{dt} = R -  bT$\n",
        "\n",
        "* $T$ is the global average surface temperature (relative to pre-industrial) [C]\n",
        "* $b$ is the climate sensitivity parameter [W m$^{-2}$ C$^{-1}$]\n",
        "* $H$ is the ocean mixed layer depth [m]\n",
        "* $R$ is radiative forcing [W m$^{-2}$]\n",
        "* $\\rho$ is the density of sea water [kg m$^{-3}$]\n",
        "* $c_p$ is the specific heat capacity of seawater [J kg$^{-1}$ C$^{-1}$]\n",
        "\n",
        "## Import libraries and download data\n",
        "\n"
      ]
    },
    {
      "metadata": {
        "id": "T5q8c9L9Hn03",
        "colab_type": "code",
        "colab": {}
      },
      "cell_type": "code",
      "source": [
        "import numpy as np\n",
        "import matplotlib.pyplot as plt\n",
        "import pandas as pd"
      ],
      "execution_count": 0,
      "outputs": []
    },
    {
      "metadata": {
        "id": "QeqfuHPgkBOp",
        "colab_type": "text"
      },
      "cell_type": "markdown",
      "source": [
        "The data are in csv files on Github, which are downloaded automatically. One file contains radiative forcing data for the past climate during 1880-2006. The second file contains projections of radiative forcing under different IPCC scenarios of representative concentration pathways (RCPs). These datasets are loaded into Pandas dataframes."
      ]
    },
    {
      "metadata": {
        "id": "i-H4kCWKHn1B",
        "colab_type": "code",
        "outputId": "9d72aa22-561f-4bf6-a053-16f44332fea1",
        "colab": {
          "base_uri": "https://localhost:8080/",
          "height": 34
        }
      },
      "cell_type": "code",
      "source": [
        "!git clone https://github.com/tompc35/radiative-forcing-data.git data\n",
        "\n",
        "data = pd.read_csv('data/climate_forcing_1880-2006.csv')\n",
        "projections = pd.read_csv('data/climate_forcing_projected.csv')"
      ],
      "execution_count": 3,
      "outputs": [
        {
          "output_type": "stream",
          "text": [
            "fatal: destination path 'data' already exists and is not an empty directory.\n"
          ],
          "name": "stdout"
        }
      ]
    },
    {
      "metadata": {
        "id": "mtEv_PQA8rgc",
        "colab_type": "text"
      },
      "cell_type": "markdown",
      "source": [
        "## View the data\n",
        "\n",
        "Each dataframe contains multiple variables, which can be thought of as the columns of a spreadsheet. Each row corresponds to a year.\n",
        "\n",
        "* The dataframe called `data` contains one variables corresponding to the year, different categories of radiative forcing estimates, atmospheric CO2 concentrations and observed temperature. \n",
        "\n",
        "* The dataframe called `projections` contains estimates of radiative forcing for future times based on different scenarios.\n",
        "\n",
        "The first few rows of each dataframe are displayed below."
      ]
    },
    {
      "metadata": {
        "id": "sO6-onWDHn1H",
        "colab_type": "code",
        "outputId": "42f55ba8-e721-4ab8-fb23-6722ffeea00d",
        "colab": {
          "base_uri": "https://localhost:8080/",
          "height": 224
        }
      },
      "cell_type": "code",
      "source": [
        "data.head()"
      ],
      "execution_count": 4,
      "outputs": [
        {
          "output_type": "execute_result",
          "data": {
            "text/html": [
              "<div>\n",
              "<style scoped>\n",
              "    .dataframe tbody tr th:only-of-type {\n",
              "        vertical-align: middle;\n",
              "    }\n",
              "\n",
              "    .dataframe tbody tr th {\n",
              "        vertical-align: top;\n",
              "    }\n",
              "\n",
              "    .dataframe thead th {\n",
              "        text-align: right;\n",
              "    }\n",
              "</style>\n",
              "<table border=\"1\" class=\"dataframe\">\n",
              "  <thead>\n",
              "    <tr style=\"text-align: right;\">\n",
              "      <th></th>\n",
              "      <th>Year</th>\n",
              "      <th>Volcano [W/m2]</th>\n",
              "      <th>Solar [W/m2]</th>\n",
              "      <th>Anthropogenic [W/m2]</th>\n",
              "      <th>Total radiative forcing [W/m2]</th>\n",
              "      <th>Carbon dioxide [ppm]</th>\n",
              "      <th>Observed Temperature [C]</th>\n",
              "    </tr>\n",
              "  </thead>\n",
              "  <tbody>\n",
              "    <tr>\n",
              "      <th>0</th>\n",
              "      <td>1879</td>\n",
              "      <td>0.202</td>\n",
              "      <td>-0.030</td>\n",
              "      <td>0.196</td>\n",
              "      <td>0.368</td>\n",
              "      <td>290</td>\n",
              "      <td>NaN</td>\n",
              "    </tr>\n",
              "    <tr>\n",
              "      <th>1</th>\n",
              "      <td>1880</td>\n",
              "      <td>0.216</td>\n",
              "      <td>-0.009</td>\n",
              "      <td>0.194</td>\n",
              "      <td>0.400</td>\n",
              "      <td>291</td>\n",
              "      <td>0.00</td>\n",
              "    </tr>\n",
              "    <tr>\n",
              "      <th>2</th>\n",
              "      <td>1881</td>\n",
              "      <td>0.223</td>\n",
              "      <td>0.011</td>\n",
              "      <td>0.196</td>\n",
              "      <td>0.429</td>\n",
              "      <td>291</td>\n",
              "      <td>0.07</td>\n",
              "    </tr>\n",
              "    <tr>\n",
              "      <th>3</th>\n",
              "      <td>1882</td>\n",
              "      <td>0.111</td>\n",
              "      <td>0.021</td>\n",
              "      <td>0.208</td>\n",
              "      <td>0.340</td>\n",
              "      <td>292</td>\n",
              "      <td>0.02</td>\n",
              "    </tr>\n",
              "    <tr>\n",
              "      <th>4</th>\n",
              "      <td>1883</td>\n",
              "      <td>-0.803</td>\n",
              "      <td>0.022</td>\n",
              "      <td>0.217</td>\n",
              "      <td>-0.564</td>\n",
              "      <td>292</td>\n",
              "      <td>0.01</td>\n",
              "    </tr>\n",
              "  </tbody>\n",
              "</table>\n",
              "</div>"
            ],
            "text/plain": [
              "   Year  Volcano [W/m2]  Solar [W/m2]  Anthropogenic [W/m2]  \\\n",
              "0  1879           0.202        -0.030                 0.196   \n",
              "1  1880           0.216        -0.009                 0.194   \n",
              "2  1881           0.223         0.011                 0.196   \n",
              "3  1882           0.111         0.021                 0.208   \n",
              "4  1883          -0.803         0.022                 0.217   \n",
              "\n",
              "   Total radiative forcing [W/m2]  Carbon dioxide [ppm]  \\\n",
              "0                           0.368                   290   \n",
              "1                           0.400                   291   \n",
              "2                           0.429                   291   \n",
              "3                           0.340                   292   \n",
              "4                          -0.564                   292   \n",
              "\n",
              "   Observed Temperature [C]  \n",
              "0                       NaN  \n",
              "1                      0.00  \n",
              "2                      0.07  \n",
              "3                      0.02  \n",
              "4                      0.01  "
            ]
          },
          "metadata": {
            "tags": []
          },
          "execution_count": 4
        }
      ]
    },
    {
      "metadata": {
        "id": "hrhrjXyfHn1Q",
        "colab_type": "code",
        "outputId": "b3ecebb3-a7b9-420c-c5ed-133dcc3ae1d5",
        "colab": {
          "base_uri": "https://localhost:8080/",
          "height": 206
        }
      },
      "cell_type": "code",
      "source": [
        "projections.head()"
      ],
      "execution_count": 5,
      "outputs": [
        {
          "output_type": "execute_result",
          "data": {
            "text/html": [
              "<div>\n",
              "<style scoped>\n",
              "    .dataframe tbody tr th:only-of-type {\n",
              "        vertical-align: middle;\n",
              "    }\n",
              "\n",
              "    .dataframe tbody tr th {\n",
              "        vertical-align: top;\n",
              "    }\n",
              "\n",
              "    .dataframe thead th {\n",
              "        text-align: right;\n",
              "    }\n",
              "</style>\n",
              "<table border=\"1\" class=\"dataframe\">\n",
              "  <thead>\n",
              "    <tr style=\"text-align: right;\">\n",
              "      <th></th>\n",
              "      <th>Year</th>\n",
              "      <th>Forcing RCP26 [W/m2]</th>\n",
              "      <th>Forcing RCP45 [W/m2]</th>\n",
              "      <th>Forcing RCP6 [W/m2]</th>\n",
              "      <th>Forcing RCP85 [W/m2]</th>\n",
              "    </tr>\n",
              "  </thead>\n",
              "  <tbody>\n",
              "    <tr>\n",
              "      <th>0</th>\n",
              "      <td>2007</td>\n",
              "      <td>1.950</td>\n",
              "      <td>1.952</td>\n",
              "      <td>1.937</td>\n",
              "      <td>1.961</td>\n",
              "    </tr>\n",
              "    <tr>\n",
              "      <th>1</th>\n",
              "      <td>2008</td>\n",
              "      <td>1.985</td>\n",
              "      <td>1.986</td>\n",
              "      <td>1.964</td>\n",
              "      <td>2.001</td>\n",
              "    </tr>\n",
              "    <tr>\n",
              "      <th>2</th>\n",
              "      <td>2009</td>\n",
              "      <td>2.077</td>\n",
              "      <td>2.075</td>\n",
              "      <td>2.046</td>\n",
              "      <td>2.099</td>\n",
              "    </tr>\n",
              "    <tr>\n",
              "      <th>3</th>\n",
              "      <td>2010</td>\n",
              "      <td>2.198</td>\n",
              "      <td>2.192</td>\n",
              "      <td>2.157</td>\n",
              "      <td>2.223</td>\n",
              "    </tr>\n",
              "    <tr>\n",
              "      <th>4</th>\n",
              "      <td>2011</td>\n",
              "      <td>2.283</td>\n",
              "      <td>2.269</td>\n",
              "      <td>2.230</td>\n",
              "      <td>2.301</td>\n",
              "    </tr>\n",
              "  </tbody>\n",
              "</table>\n",
              "</div>"
            ],
            "text/plain": [
              "   Year  Forcing RCP26 [W/m2]  Forcing RCP45 [W/m2]  Forcing RCP6 [W/m2]  \\\n",
              "0  2007                 1.950                 1.952                1.937   \n",
              "1  2008                 1.985                 1.986                1.964   \n",
              "2  2009                 2.077                 2.075                2.046   \n",
              "3  2010                 2.198                 2.192                2.157   \n",
              "4  2011                 2.283                 2.269                2.230   \n",
              "\n",
              "   Forcing RCP85 [W/m2]  \n",
              "0                 1.961  \n",
              "1                 2.001  \n",
              "2                 2.099  \n",
              "3                 2.223  \n",
              "4                 2.301  "
            ]
          },
          "metadata": {
            "tags": []
          },
          "execution_count": 5
        }
      ]
    },
    {
      "metadata": {
        "id": "rEYsGX0MAtJY",
        "colab_type": "text"
      },
      "cell_type": "markdown",
      "source": [
        "## Plot historical data and projections"
      ]
    },
    {
      "metadata": {
        "id": "lluwFepNHn1X",
        "colab_type": "code",
        "outputId": "56c03aee-625a-4681-a00f-f505278e0a59",
        "colab": {
          "base_uri": "https://localhost:8080/",
          "height": 379
        }
      },
      "cell_type": "code",
      "source": [
        "plt.figure()\n",
        "plt.plot(data['Year'],data['Volcano [W/m2]'])\n",
        "plt.plot(data['Year'],data['Solar [W/m2]'])\n",
        "plt.plot(data['Year'],data['Anthropogenic [W/m2]'])\n",
        "plt.ylabel('[W/m$^2$]')\n",
        "plt.title('historical radiative forcing components')\n",
        "plt.legend()"
      ],
      "execution_count": 11,
      "outputs": [
        {
          "output_type": "execute_result",
          "data": {
            "text/plain": [
              "<matplotlib.legend.Legend at 0x7f76f200ea90>"
            ]
          },
          "metadata": {
            "tags": []
          },
          "execution_count": 11
        },
        {
          "output_type": "display_data",
          "data": {
            "image/png": "[encoded data removed]",
            "text/plain": [
              "<matplotlib.figure.Figure at 0x7f76f20549b0>"
            ]
          },
          "metadata": {
            "tags": []
          }
        }
      ]
    },
    {
      "metadata": {
        "id": "NdAPm10iAcjt",
        "colab_type": "text"
      },
      "cell_type": "markdown",
      "source": [
        "### Exercise #1: plot the total radiative forcing for historical time periods and all future climate scenarios on one plot.\n",
        "\n"
      ]
    },
    {
      "metadata": {
        "id": "DLZ90HrTHn1d",
        "colab_type": "code",
        "colab": {}
      },
      "cell_type": "code",
      "source": [
        "# enter code here"
      ],
      "execution_count": 0,
      "outputs": []
    },
    {
      "metadata": {
        "id": "Zc4EWDy5Ly8m",
        "colab_type": "text"
      },
      "cell_type": "markdown",
      "source": [
        "## Define the model equations\n",
        "\n",
        "A function is defined below to run the model, given parameter values and a time series of radiative forcing. The model equation is stepped forward in time using Euler's method. This function only needs to be defined once."
      ]
    },
    {
      "metadata": {
        "id": "5MA0pcGJHn16",
        "colab_type": "code",
        "colab": {}
      },
      "cell_type": "code",
      "source": [
        "def run_model(rho,cp,H,b,R):\n",
        "  '''\n",
        "  Run a simple climate model.\n",
        "  \n",
        "  INPUTS:\n",
        "  parameters - rho, cp, H, b (constants)\n",
        "  radiative forcing - R (time series, one value per year)\n",
        "  \n",
        "  OUTPUT:\n",
        "  temperature (time series, one value per year)\n",
        "  \n",
        "  '''\n",
        "  \n",
        "  # set up time parameters and initialize model with array of zeros\n",
        "  nsteps = len(R)\n",
        "  deltat = 365.25*24*60*60  # time step of one year (in seconds)\n",
        "  T = np.zeros(nsteps)\n",
        "  \n",
        "  # loop through time steps and solve model equation\n",
        "  for i in range(nsteps-1):\n",
        "    dTdt = (R[i]-b*T[i])/(rho*cp*H)\n",
        "    T[i+1] = T[i]+dTdt*deltat\n",
        "\n",
        "  return T"
      ],
      "execution_count": 0,
      "outputs": []
    },
    {
      "metadata": {
        "id": "DfAQcC8qHn1l",
        "colab_type": "text"
      },
      "cell_type": "markdown",
      "source": [
        "## Define forcing scenario\n",
        "\n",
        "Specify the time variable and radiative forcing to be used in the model. These should come from the same dataframe (`data` or `projections`)."
      ]
    },
    {
      "metadata": {
        "id": "zo7GwFzbHn1o",
        "colab_type": "code",
        "colab": {}
      },
      "cell_type": "code",
      "source": [
        "time = data['Year']\n",
        "Rtotal = data['Total radiative forcing [W/m2]']"
      ],
      "execution_count": 0,
      "outputs": []
    },
    {
      "metadata": {
        "id": "8RZ2tu96Hn1t",
        "colab_type": "text"
      },
      "cell_type": "markdown",
      "source": [
        "## Define parameters\n",
        "\n",
        "### Exercise #2: Experiment with parameters and try to find the best fit to the data"
      ]
    },
    {
      "metadata": {
        "id": "KLxS4wz5Hn1x",
        "colab_type": "code",
        "colab": {}
      },
      "cell_type": "code",
      "source": [
        "rho = 1025              # water density [kg/m^3]\n",
        "cp = 3985               # specific heat capacity of seawater [J kg^-1 C^-1]\n",
        "H =  # enter value      # ocean mixed layer depth [m]\n",
        "b =  # enter value      # climate sensitivity [W m^-2 C^-1]"
      ],
      "execution_count": 0,
      "outputs": []
    },
    {
      "metadata": {
        "id": "ooImUYFcGQAp",
        "colab_type": "text"
      },
      "cell_type": "markdown",
      "source": [
        "Run model and plot the results"
      ]
    },
    {
      "metadata": {
        "id": "D4mc0DzgHn2C",
        "colab_type": "code",
        "outputId": "5b5343a8-087b-4a4f-f079-3b967b52a590",
        "colab": {
          "base_uri": "https://localhost:8080/",
          "height": 379
        }
      },
      "cell_type": "code",
      "source": [
        "Tmodel = run_model(rho,cp,H,b,Rtotal)\n",
        "\n",
        "plt.figure()\n",
        "plt.plot(time,Tmodel)\n",
        "plt.plot(data['Year'],data['Observed Temperature [C]'])\n",
        "plt.title('modeled and observed temperature')\n",
        "plt.ylabel('[deg C]')\n",
        "plt.legend()"
      ],
      "execution_count": 21,
      "outputs": [
        {
          "output_type": "execute_result",
          "data": {
            "text/plain": [
              "<matplotlib.legend.Legend at 0x7f76f1ed17f0>"
            ]
          },
          "metadata": {
            "tags": []
          },
          "execution_count": 21
        },
        {
          "output_type": "display_data",
          "data": {
            "image/png": "[encoded data removed]",
            "text/plain": [
              "<matplotlib.figure.Figure at 0x7f76f1f505f8>"
            ]
          },
          "metadata": {
            "tags": []
          }
        }
      ]
    },
    {
      "metadata": {
        "id": "luynSDf0Ii7u",
        "colab_type": "text"
      },
      "cell_type": "markdown",
      "source": [
        "### Exercise #3: Compare modeled temperature over the past century for different components of forcing\n",
        "\n",
        "* Solar forcing only\n",
        "* Anthropogenic forcing only\n",
        "* Solar + anthropogenic forcing only (no volcanos)\n",
        "\n",
        "Use the same the `run_model` function, but with different inputs for the radiative forcing time series.  The model equations will remain the same, with different inputs, so there is no need to define the function again."
      ]
    },
    {
      "metadata": {
        "id": "PtEOTPwECBgI",
        "colab_type": "code",
        "colab": {}
      },
      "cell_type": "code",
      "source": [
        ""
      ],
      "execution_count": 0,
      "outputs": []
    },
    {
      "metadata": {
        "id": "t5XHPqf_-imY",
        "colab_type": "text"
      },
      "cell_type": "markdown",
      "source": [
        "### Exercise #4: Compare modeled temperature for different IPCC projections of radiative forcing"
      ]
    },
    {
      "metadata": {
        "id": "9Amr8L49IgL4",
        "colab_type": "code",
        "colab": {}
      },
      "cell_type": "code",
      "source": [
        ""
      ],
      "execution_count": 0,
      "outputs": []
    }
  ]
}